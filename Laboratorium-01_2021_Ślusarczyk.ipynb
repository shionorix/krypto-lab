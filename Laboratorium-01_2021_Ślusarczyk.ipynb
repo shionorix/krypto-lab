{
 "cells": [
  {
   "cell_type": "markdown",
   "metadata": {},
   "source": [
    "# Kryptografia klasyczna (od starożytności do czasów współczesnych)\n",
    "### Literatura:\n",
    "1. Księga szyfrów, Simon Singh, Świat książki, 2001\n",
    "2. Łamacze kodów, David Kahn, WNT, 2004"
   ]
  },
  {
   "cell_type": "markdown",
   "metadata": {},
   "source": [
    "## Szyfr Cezara\n",
    "--------------\n",
    "Szyfr Cezara oczywiście nie zawdzięcza swego istnienia Juliuszowi Cezarowi. Został przezeń jedynie wspomniany w pamiętnikach o wojnach galijskich. Prawdopodobnie była to dobrze znana metoda w tym czasie."
   ]
  },
  {
   "cell_type": "code",
   "execution_count": 11,
   "metadata": {},
   "outputs": [
    {
     "name": "stdout",
     "output_type": "stream",
     "text": [
      "Tekst jawny:  TobeornottobethatisthequestionWhethertisNoblerinthemindtosufferTheSlingsandArrowsofoutrageousFortuneOrtotakeArmsagainstaSeaoftroublesAndbyopposingendthem\n",
      "Szyfrogram:  idqtdgcdiidqtiwpixhiwtfjthixdclwtiwtgixhcdqatgxciwtbxcsidhjuutgiwthaxcvhpcspggdlhdudjigpvtdjhudgijctdgidipztpgbhpvpxchiphtpduigdjqathpcsqndeedhxcvtcsiwtb (spacje usunięte)\n",
      "Odszyfrowana wiadomość:  tobeornottobethatisthequestionwhethertisnoblerinthemindtosuffertheslingsandarrowsofoutrageousfortuneortotakearmsagainstaseaoftroublesandbyopposingendthem (spacje usunięte)\n"
     ]
    }
   ],
   "source": [
    "# Alfabet jawny i szyfrowy \n",
    "alphabets = ['a','b', 'c', 'd', 'e', 'f', 'g', 'h', 'i', 'j', 'k', 'l', 'm', 'n', 'o', 'p',\n",
    "            'q', 'r', 's', 't', 'u', 'v', 'w', 'x', 'y', 'z']\n",
    "\n",
    "alphabet_size = 26\n",
    "\n",
    "plaintext = \"TobeornottobethatisthequestionWhethertisNoblerinthemindtosufferTheSlingsandArrowsofoutrageousFortuneOrtotakeArmsagainstaSeaoftroublesAndbyopposingendthem\"\n",
    "\n",
    "ciphertext = \"\"\n",
    "\n",
    "key = 15 #przesunięcie permutacji czyli klucz szyfrowania \n",
    "\n",
    "print(\"Tekst jawny: \", plaintext)\n",
    "\n",
    "for text in plaintext.lower().split():\n",
    "    for char in text:\n",
    "        ciphertext = ciphertext + alphabets[(alphabets.index(char) + key) % alphabet_size] \n",
    "print(\"Szyfrogram: \",  ciphertext, \"(spacje usunięte)\")\n",
    "\n",
    "decodedtext = \"\"\n",
    "for text in ciphertext:\n",
    "    for char in text:\n",
    "        decodedtext = decodedtext + alphabets[(alphabets.index(char)- key) % alphabet_size]\n",
    "print(\"Odszyfrowana wiadomość: \",  decodedtext,  \"(spacje usunięte)\")"
   ]
  },
  {
   "cell_type": "markdown",
   "metadata": {},
   "source": [
    "## Szyfr monoalfabetyczny: \n",
    "_danemu symbolowi alfabetu jawnego odpowiada dokładnie jeden i ten sam symbol alfabetu tajnego._"
   ]
  },
  {
   "cell_type": "markdown",
   "metadata": {},
   "source": [
    "### Zastanów się:\n",
    "1. Czy szyfr Cezara jest łatwy do złamania? Ile prób (testów przesunięć) trzeba aby złamać szyfr Cezara?\n",
    "2. Co to jest atak siłowy (__brute force__)?  \n",
    "3. Zaproponuj i zaimplementuj wariant szyfru Cezara, która wymaga wykonania większej liczby prób podczas ataku?  \n",
    "4. Oceń koszt ataku na ten wariant Cezara."
   ]
  },
  {
   "cell_type": "code",
   "execution_count": 12,
   "metadata": {},
   "outputs": [
    {
     "name": "stdout",
     "output_type": "stream",
     "text": [
      "Tekst jawny:  TobeornottobethatisthequestionWhethertisNoblerinthemindtosufferTheSlingsandArrowsofoutrageousFortuneOrtotakeArmsagainstaSeaoftroublesAndbyopposingendthem\n",
      "Szyfrogram:  rkgfkmskrrkgfrwpruxrwflefxruksbwfrwfmruxskgnfmusrwfyusvrkxeccfmrwfxnustxpsvpmmkbxkckermptfkexckmresfkmrkrpzfpmyxptpusxrpxfpkcrmkegnfxpsvgjkhhkxustfsvrwfy (spacje usunięte)\n",
      "Odszyfrowana wiadomość:  zjvgjbfjzzjvgzhazspzhgeygpzsjfqhgzhgbzspfjvcgbsfzhgwsfnzjpyiigbzhgpcsfdpafnabbjqpjijyzbadgjypijbzyfgjbzjzakgabwpadasfpzapgajizbjyvcgpafnvljuujpsfdgfnzhgw (spacje usunięte)\n"
     ]
    }
   ],
   "source": [
    "# lepszy Cezar\n",
    "import numpy\n",
    "\n",
    "alphabet = ['a','b', 'c', 'd', 'e', 'f', 'g', 'h', 'i', 'j', 'k', 'l', 'm', 'n', 'o', 'p',\n",
    "            'q', 'r', 's', 't', 'u', 'v', 'w', 'x', 'y', 'z']\n",
    "\n",
    "permuted_alphabet = list(numpy.random.permutation(alphabet))\n",
    "\n",
    "alphabet_size = len(permuted_alphabet)\n",
    "\n",
    "plaintext = \"TobeornottobethatisthequestionWhethertisNoblerinthemindtosufferTheSlingsandArrowsofoutrageousFortuneOrtotakeArmsagainstaSeaoftroublesAndbyopposingendthem\"\n",
    "\n",
    "ciphertext_permuted = \"\"\n",
    "\n",
    "key = 15 #przesunięcie permutacji czyli klucz szyfrowania \n",
    "\n",
    "print(\"Tekst jawny: \", plaintext)\n",
    "\n",
    "for text in plaintext.lower().split():\n",
    "    for char in text:\n",
    "        ciphertext_permuted = ciphertext_permuted + permuted_alphabet[(permuted_alphabet.index(char) + key) % alphabet_size] \n",
    "print(\"Szyfrogram: \",  ciphertext_permuted, \"(spacje usunięte)\")\n",
    "\n",
    "decodedtext_permuted = \"\"\n",
    "for text in ciphertext:\n",
    "    for char in text:\n",
    "        decodedtext_permuted = decodedtext_permuted + permuted_alphabet[(permuted_alphabet.index(char)- key) % alphabet_size]\n",
    "print(\"Odszyfrowana wiadomość: \",  decodedtext_permuted,  \"(spacje usunięte)\")"
   ]
  },
  {
   "cell_type": "markdown",
   "metadata": {},
   "source": [
    "## Kryptoanaliza szyfrów monoalfabetycznych\n",
    "\n",
    "Współcześnie kryptoanaliza szyfru Cezara jest trywialna. Można po prostu sprawdzić wszystkie 26 możliwych przesunięć. \n",
    "\n",
    "Szyfry monoalfabetyczne nie są także odporne na __kryptoanalizę statystyczną__. Znając rozkład częstości liter w tekstach napisanych w danym języku możemy odgadnąć przesunięcie obserwując minima i maxima w histogramach. \n",
    "\n",
    "W zasadzie kluczową sprawą w obu przypadkach jest znajomość języka, a w gruncie rzeczy alfabetu. "
   ]
  },
  {
   "cell_type": "markdown",
   "metadata": {},
   "source": [
    "# Problem\n",
    "1. Narysuj rozkład częstości występowania liter w języku angielskim (kod rysowania histogramu poniżej)"
   ]
  },
  {
   "cell_type": "code",
   "execution_count": 13,
   "metadata": {},
   "outputs": [
    {
     "data": {
      "image/png": "[encoded data removed]",
      "text/plain": [
       "<Figure size 1080x648 with 1 Axes>"
      ]
     },
     "metadata": {
      "needs_background": "light"
     },
     "output_type": "display_data"
    }
   ],
   "source": [
    "from matplotlib import pyplot as plt\n",
    "import numpy as np\n",
    "\n",
    "letters =   ['a',  'b',    'c',   'd',  'e',   'f',   'g',   'h',   'i',   'j',   'k',   'l',    'm',  'n',   'o',   'p',    'q',  'r',   's',   't',   'u',   'v',   'w',   'x',    'y',   'z']\n",
    "frequency = [0.080, 0.015, 0.030, 0.040, 0.130, 0.020, 0.015, 0.060, 0.065, 0.005, 0.005, 0.035, 0.030, 0.070, 0.080, 0.020, 0.002, 0.065, 0.060, 0.090, 0.030, 0.010, 0.015, 0.005, 0.020, 0.002]\n",
    "labels = np.arange(len(letters))\n",
    "plt.figure(figsize=(15,9))\n",
    "plt.bar(labels, frequency, alpha=0.5, edgecolor=\"green\")\n",
    "plt.xlabel('Alfabet')\n",
    "plt.xticks(np.arange(26), ('a','b', 'c', 'd', 'e', 'f', 'g', 'h', 'i', 'j', 'k', 'l', 'm', 'n', 'o', 'p', 'q', 'r', 's', 't', 'u', 'v', 'w', 'x', 'y', 'z'))\n",
    "plt.title(\"Język angielski\");\n",
    "plt.ylabel('Częstość występowania')\n",
    "plt.show()"
   ]
  },
  {
   "cell_type": "markdown",
   "metadata": {},
   "source": [
    "2. Dokonaj analizy częstości występowania liter w tekście jawnym i szyfrogramie (szyfr Cezara z dowolnym przesunięciem) dla tekstu w poniższym fragmencie kodu. Wyświetl wyniki podobnie jak powyżej. \n",
    "3. Dokonaj analizy częstości występowania liter w szyfrogramie wygenerowanym przez \"ulepszonego Cezara\""
   ]
  },
  {
   "cell_type": "code",
   "execution_count": 14,
   "metadata": {
    "scrolled": true
   },
   "outputs": [
    {
     "data": {
      "image/png": "[encoded data removed]",
      "text/plain": [
       "<Figure size 1080x648 with 1 Axes>"
      ]
     },
     "metadata": {
      "needs_background": "light"
     },
     "output_type": "display_data"
    },
    {
     "data": {
      "image/png": "[encoded data removed]",
      "text/plain": [
       "<Figure size 1080x648 with 1 Axes>"
      ]
     },
     "metadata": {
      "needs_background": "light"
     },
     "output_type": "display_data"
    },
    {
     "data": {
      "image/png": "[encoded data removed]",
      "text/plain": [
       "<Figure size 1080x648 with 1 Axes>"
      ]
     },
     "metadata": {
      "needs_background": "light"
     },
     "output_type": "display_data"
    }
   ],
   "source": [
    "import numpy as np\n",
    "from matplotlib import pyplot as plt\n",
    "\n",
    "plaintext = \"TobeornottobethatisthequestionWhethertisNoblerinthemindtosufferTheSlingsandArrowsofoutrageousFortuneOrtotakeArmsagainstaSeaoftroublesAndbyopposingendthem\"\n",
    "\n",
    "Alphabet = [\n",
    "    'a','b','c','d','e','f','g','h','i','j','k','l','m',\n",
    "    'n','o','p','q','r','s','t','u','v','w','x','y','z'\n",
    "]\n",
    "Frequency = []\n",
    "Frequency_classic = []\n",
    "Frequency_permuted = []\n",
    "\n",
    "for i in range(0,26):\n",
    "    Frequency.append(plaintext.count(Alphabet[i]))\n",
    "\n",
    "for i in range(0,26):\n",
    "    Frequency_classic.append(ciphertext.count(Alphabet[i]))\n",
    "\n",
    "for i in range(0,26):\n",
    "    Frequency_permuted.append(ciphertext_permuted.count(Alphabet[i]))\n",
    "\n",
    "labels = np.arange(len(Alphabet))\n",
    "plt.figure(figsize=(15,9))\n",
    "plt.bar(labels, Frequency, alpha=0.5, edgecolor=\"green\")\n",
    "plt.xlabel('Alfabet')\n",
    "plt.xticks(np.arange(26), ('a','b', 'c', 'd', 'e', 'f', 'g', 'h', 'i', 'j', 'k', 'l', 'm', 'n', 'o', 'p', 'q', 'r', 's', 't', 'u', 'v', 'w', 'x', 'y', 'z'))\n",
    "plt.title(\"Plaintext\");\n",
    "plt.ylabel('Częstość występowania')\n",
    "plt.show()\n",
    "\n",
    "\n",
    "labels = np.arange(len(Alphabet))\n",
    "plt.figure(figsize=(15,9))\n",
    "plt.bar(labels, Frequency_classic, alpha=0.5, edgecolor=\"green\")\n",
    "plt.xlabel('Alfabet')\n",
    "plt.xticks(np.arange(26), ('a','b', 'c', 'd', 'e', 'f', 'g', 'h', 'i', 'j', 'k', 'l', 'm', 'n', 'o', 'p', 'q', 'r', 's', 't', 'u', 'v', 'w', 'x', 'y', 'z'))\n",
    "plt.title(\"Zwykły szyfr\");\n",
    "plt.ylabel('Częstość występowania')\n",
    "plt.show()\n",
    "\n",
    "labels2 = np.arange(len(Alphabet))\n",
    "plt.figure(figsize=(15,9))\n",
    "plt.bar(labels, Frequency_permuted, alpha=0.5, edgecolor=\"green\")\n",
    "plt.xlabel('Alfabet')\n",
    "plt.xticks(np.arange(26), ('a','b', 'c', 'd', 'e', 'f', 'g', 'h', 'i', 'j', 'k', 'l', 'm', 'n', 'o', 'p', 'q', 'r', 's', 't', 'u', 'v', 'w', 'x', 'y', 'z'))\n",
    "plt.title(\"Szyfr permutowany\");\n",
    "plt.ylabel('Częstość występowania')\n",
    "plt.show()\n",
    "# policz częstość i wyświetl rozkłady "
   ]
  },
  {
   "cell_type": "markdown",
   "metadata": {},
   "source": [
    "### Przykład: \n",
    "Automatyczna kryptoanaliza tekst zaszyfrowanego zwykłym Cezarem"
   ]
  },
  {
   "cell_type": "code",
   "execution_count": 15,
   "metadata": {},
   "outputs": [
    {
     "name": "stderr",
     "output_type": "stream",
     "text": [
      "[nltk_data] Downloading package words to\n",
      "[nltk_data]     C:\\Users\\magda\\AppData\\Roaming\\nltk_data...\n",
      "[nltk_data]   Package words is already up-to-date!\n"
     ]
    },
    {
     "name": "stdout",
     "output_type": "stream",
     "text": [
      "Próba klucza:  25  .... pehhe\n",
      "Próba klucza:  10  .... etwwt\n",
      "Próba klucza:  2  .... mbeeb\n",
      "Próba klucza:  15  .... zorro\n",
      "\n",
      " Decoded string:  zorro\n"
     ]
    }
   ],
   "source": [
    "import nltk\n",
    "nltk.download('words')\n",
    "from nltk.corpus import words\n",
    "\n",
    "\n",
    "unique = []\n",
    "frequency = []\n",
    "psi = []\n",
    "key = 0\n",
    "value = 0.0\n",
    "exit = True\n",
    "\n",
    "ciphertext = \"odggd\".lower()\n",
    "\n",
    "alphabets = \"abcdefghijklmnopqrstuvwxyz\"\n",
    "\n",
    "english_frequency_prob = [0.080, 0.015, 0.030, 0.040, 0.130, 0.020, 0.015, 0.060, 0.065, 0.005, \n",
    "                          0.005, 0.035, 0.030, 0.070, 0.080, 0.020, 0.002, 0.065, 0.060, 0.090, \n",
    "                          0.030, 0.010, 0.015, 0.005, 0.020, 0.002]\n",
    "\n",
    "\n",
    "\n",
    "for char in ciphertext: #lista liter w szyfrogramie\n",
    "    if (char not in unique) and (char.isalpha()):\n",
    "        unique.append(char)\n",
    "        \n",
    "only_alphabets = [char for char in ciphertext if char.isalpha()]  #tylko litery\n",
    "\n",
    "for unique_char in unique: #częstość liter w tekście \n",
    "     frequency.append(ciphertext.count(unique_char) / (float)(len(only_alphabets)))\n",
    "\n",
    "for i in range(0,26): #oblicz dopasowanie\n",
    "    for unique_char in unique:\n",
    "         value = value + frequency[unique.index(unique_char)] * english_frequency_prob[alphabets.index(unique_char) - i]\n",
    "    psi.append(value)  \n",
    "    value = 0.0\n",
    "    \n",
    "sorted_psi = psi[:] # sortuj dopasowanie\n",
    "sorted_psi.sort(reverse=True)\n",
    "\n",
    "decoded_string = \"\"\n",
    "for i in range(0, 26):\n",
    "    key = psi.index(sorted_psi[i])\n",
    "    decoded_string = \"\"\n",
    "    for char in ciphertext:\n",
    "        if (char != ' '):\n",
    "            decoded_string = decoded_string + alphabets[alphabets.index(char) - key]\n",
    "        else:\n",
    "            decoded_string = decoded_string + \" \"\n",
    "            \n",
    "    print(\"Próba klucza: \", key, \" ....\", decoded_string)\n",
    "    \n",
    "    for word in decoded_string.split():\n",
    "        if word not in words.words(): #czy szyfrowanie ma sens\n",
    "            exit = False\n",
    "        else:\n",
    "            exit = True\n",
    "    if exit:\n",
    "        break\n",
    "        \n",
    "print(\"\\n\", \"Decoded string: \", decoded_string)"
   ]
  },
  {
   "cell_type": "markdown",
   "metadata": {},
   "source": [
    "## Podsumowanie \n",
    "Główną słabością szyfrów monoalfabetycznych jest stałość przekształcenia, dzięki czemu możliwe jest łatwe zaobserwowanie regularności.\n",
    "\n",
    "Rozwiązaniem może być zmiana alfabetów w trakcie szyfrowania. Dla uproszczenia wystarczy zmieniać jedynie porządek liter. \n",
    "\n",
    "# Problem\n",
    "1. Napisać program, który zmienia alfabet szyfrowania po każdej literze.\n",
    "_Co będzie potrzebne oprócz tekst jawnego?_\n"
   ]
  },
  {
   "cell_type": "code",
   "execution_count": 24,
   "metadata": {},
   "outputs": [
    {
     "name": "stdout",
     "output_type": "stream",
     "text": [
      "YVTJXYFTGBCXTHLUMJBQPAUDJZGEWQIPYGMLINBFFCXZJNCLKMFGRQQPIQZHZRAWEMFIVPBTWLWFMTFQATGQQBTXCYBZXMGWCBFJBZHKIOOYTSVPICERSZGWAHMWZGWVLVERKOJRGUINGTTCWJRJXRMGG\n",
      "TOBEORNOTTOBETHATISTHEQUESTIONWHETHERTISNOBLERINTHEMINDTOSUFFERTHESLINGSANDARROWSOFOUTRAGEOUSFORTUNEORTOTAKEARMSAGAINSTASEAOFTROUBLESANDBYOPPOSINGENDTHEM\n"
     ]
    },
    {
     "data": {
      "image/png": "[encoded data removed]",
      "text/plain": [
       "<Figure size 1080x648 with 1 Axes>"
      ]
     },
     "metadata": {
      "needs_background": "light"
     },
     "output_type": "display_data"
    }
   ],
   "source": [
    "alphabet = \"ABCDEFGHIJKLMNOPQRSTUVWXYZ\".upper()\n",
    "\n",
    "def generateKey(plaintext, key): \n",
    "    if len(plaintext) <= len(key): \n",
    "        return key \n",
    "    else: \n",
    "        x = len(plaintext)//len(key) + 1\n",
    "        return key*x\n",
    "\n",
    "def encrypt(plaintext, key):\n",
    "    plaintext = list(plaintext)\n",
    "    key = list(key)\n",
    "    ciphertext = []\n",
    "    for i in range(len(plaintext)):\n",
    "        newalpahbet = alphabet[alphabet.index(key[i]):] + alphabet[:alphabet.index(key[i])]\n",
    "        # print(newalpahbet)\n",
    "        ciphertext.append(newalpahbet[alphabet.index(plaintext[i])])\n",
    "    return ''.join(ciphertext)\n",
    "\n",
    "def decrypt(ciphertext, key):\n",
    "    ciphertext = list(ciphertext)\n",
    "    key = list(key)\n",
    "    decrypted = []\n",
    "    for i in range(len(plaintext)):\n",
    "        newalpahbet = alphabet[alphabet.index(key[i]):] + alphabet[:alphabet.index(key[i])]\n",
    "        decrypted.append(alphabet[newalpahbet.index(ciphertext[i])])\n",
    "    return ''.join(decrypted)\n",
    "        \n",
    "plaintext = \"TobeornottobethatisthequestionWhethertisNoblerinthemindtosufferTheSlingsandArrowsofoutrageousFortuneOrtotakeArmsagainstaSeaoftroublesAndbyopposingendthem\"\n",
    "text = \"fhsfjhsfniowpoeutbjxiwejfhnwidmiunfhrutnsowofwuyrfbujdnwuyfcunjdxinxncvbwytfvcruifbcwicxwunf\"\n",
    "key = generateKey(plaintext, text)\n",
    "ciphertext = encrypt(plaintext.upper(), key.upper())\n",
    "print(ciphertext)\n",
    "decrypted = decrypt(ciphertext.upper(), key.upper())\n",
    "print(decrypted)\n",
    "freq = []\n",
    "\n",
    "for i in range(0,26):\n",
    "    freq.append(ciphertext.count(alphabet[i]))\n",
    "\n",
    "labels = np.arange(len(alphabet))\n",
    "plt.figure(figsize=(15,9))\n",
    "plt.bar(labels, freq, alpha=0.5, edgecolor=\"green\")\n",
    "plt.xlabel('Alfabet')\n",
    "plt.xticks(np.arange(26), ('A','B', 'C', 'D', 'E', 'F', 'G', 'H', 'I', 'J', 'K', 'L', 'M', 'N', 'O', 'P', 'Q', 'R', 'S', 'T', 'U', 'V', 'W', 'X', 'Y', 'Z'))\n",
    "plt.title(\"Tekst zaszyfrowany szyfrem Vigenere'a\");\n",
    "plt.ylabel('Częstość występowania')\n",
    "plt.show()"
   ]
  },
  {
   "cell_type": "markdown",
   "metadata": {},
   "source": [
    "### Zastanów się:\n",
    "1. Sprawdź jak wygląda histogram szyfrogrami. \n",
    "2. Zastanów się jakie znaczenia ma długość klucza dla bezpieczeństwa szyfrowania.\n",
    "    Jeśli klucz będzie krótszy od tekstu, w końcu pewne wzorce zaczną się powtarzać i kryptoanalityk będzie w stanie odgadnąć że powtarzające sie fragmenty tekstu zostały zaszyfrowane tym samym kluczem.\n",
    "3. Czy powtarzanie klucza można wykorzystać dla potrzeb kryptoanalizy? \n",
    "    Tak (wyjaśnienie jak wyżej)\n",
    "4. Jaki klucz gwarantowałby bezpieczeństwo?\n",
    "    O długości większej lub równej długości tekstu, całkowicie losowy i jednorazowy\n",
    "5. Jaki rozkład częstości symboli szyfrogramu nie ujawni żadnych przydatnych danych kryptoanalitykowi? \n",
    "    Każda litera powtarza się mniej więcej podobną liczbę razy\n",
    "\n",
    "### Szyfr polialfabetyczny \n",
    "_Szyfr używający wielu alfabetów szyfrowych. W trakcie szyfrowania te same litery w tekście jawnym są zamieniane na litery odpowiadające im w alfabecie aktualnym w momencie szyfrowania danej litery (zmianę alfabetu określa klucz) - te same litery nie będą zawsze zamienione na tą samą_\n",
    "\n",
    "### Szyfr doskonały (według Clouda Shannona):\n",
    "1. Jakie warunki musi spełniać szyfr-nie-do-złamania? \n",
    "    - bezpieczeństwo szyfru nie może polegać na nienajomości algorytmu szyfrowania\n",
    "    - analiza szyfrogramu nie może dostarczać zadnych informacji na temat tekstu jawnego\n",
    "    - wszystkie teksty muszą być tak samo prawdopodobne"
   ]
  },
  {
   "cell_type": "markdown",
   "metadata": {},
   "source": [
    "## Zadanie (dodatkowe, na ocenę)\n",
    "1. Napisz notebook jupyter, które implementuje klasyczne szyfry mechaniczne: Enigma, szyfr Playfair, szyfr maszyny Lorenza. W sieci można łatwo znaleźć gotowe kody, wiec przy ocenie zwracam uwagę no dokładne omówienie kodu, przejrzystość, komentarze etc. "
   ]
  }
 ],
 "metadata": {
  "interpreter": {
   "hash": "42bd4792ff511257394d3db5dbf785f768e2ae58b2ebf8377fed133aa8ab7881"
  },
  "kernelspec": {
   "display_name": "Python 3.9.7 64-bit",
   "name": "python3"
  },
  "language_info": {
   "codemirror_mode": {
    "name": "ipython",
    "version": 3
   },
   "file_extension": ".py",
   "mimetype": "text/x-python",
   "name": "python",
   "nbconvert_exporter": "python",
   "pygments_lexer": "ipython3",
   "version": "3.9.7"
  }
 },
 "nbformat": 4,
 "nbformat_minor": 1
}
